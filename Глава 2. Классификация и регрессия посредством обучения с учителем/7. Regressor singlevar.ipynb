{
 "cells": [
  {
   "cell_type": "markdown",
   "id": "ebe90126",
   "metadata": {},
   "source": [
    "# Регрессия "
   ]
  },
  {
   "cell_type": "markdown",
   "id": "a1f61f0e",
   "metadata": {},
   "source": [
    "$Регрессия$ - это процесс оценки того, как соотносятся между собой входные и выходные пременные. Следует отметить, что выходные переменные могут иметь значения из непрерывного ряда вещественных чисел. (В процессе классификации количество выходных классов фиксировано)\n",
    "\n",
    "В регрессии предпологается, что выходные переменные зависят от входных, и наша задача заключается в выяснении соотношения между ними. Отсюда входные переменные называют $независимыми$ $переменными$ (или $предикторами$), а входные - $зависимыми$ (или $критериальными$ $пременными$). При этом вовсе не требуется, чтобы входные переменные были независимыми друг от друга. Существует множество ситуаций, когда между входными переменныи существует корреляция.\n",
    "\n",
    "Регрессионный анализ позволяет выяснить, как изменяется значение выходной переменной, когда мы изменяем лишь часть входных переменных, оставляя остальные входные перменные фиксированными. В случае линейной регрессии преполагается, что входные и выходные переменные связаны между собой линейной зависимостью.\n",
    "\n",
    "Иногда линейной регрессии оказывается недостаточно для объяснения соотношений между входными и выходными переменными. В подобных случаях мы используем $полиномиальную$ $регрессию$, в которой входные и выходные перемнные свзяанны между собой полиномиальной зависимостью. Этот подход более сложен, но он обеспечивает более высокую точность.\n",
    "\n",
    "Выбор вида регресии для выявления указанных соотношений определяется конкретикой задачи. Регрессию часто используют для прогнозирования цен, экономических показателей и т.п."
   ]
  },
  {
   "cell_type": "markdown",
   "id": "98672623",
   "metadata": {},
   "source": [
    "## Создание регрессора одной переменной"
   ]
  },
  {
   "cell_type": "code",
   "execution_count": 1,
   "id": "8371a8a6",
   "metadata": {},
   "outputs": [],
   "source": [
    "import pickle\n",
    "\n",
    "import numpy as np\n",
    "from sklearn import linear_model\n",
    "import sklearn.metrics as sm\n",
    "import matplotlib.pyplot as plt"
   ]
  },
  {
   "cell_type": "code",
   "execution_count": 2,
   "id": "027fe5c8",
   "metadata": {},
   "outputs": [],
   "source": [
    "#входной файл, содержащий данные \n",
    "input_file = 'data_singlevar_regr.txt'"
   ]
  },
  {
   "cell_type": "code",
   "execution_count": 3,
   "id": "2609dadb",
   "metadata": {},
   "outputs": [],
   "source": [
    "'''в качестве разделителя используется запятая'''\n",
    "#загрузка данных\n",
    "data = np.loadtxt(input_file, delimiter=',')\n",
    "X, y = data[:, :-1], data[:, -1]"
   ]
  },
  {
   "cell_type": "code",
   "execution_count": 4,
   "id": "a3cee724",
   "metadata": {
    "scrolled": false
   },
   "outputs": [],
   "source": [
    "'''Разобьем данные на обучающий и тестовый наборы'''\n",
    "#разбивка данных на обучающий и тестовый наборы\n",
    "num_training = int(0.8 * len(X))\n",
    "num_test = len(X) - num_training\n",
    "\n",
    "#тренировочные данные\n",
    "X_train, y_train = X[:num_training], y[:num_training]\n",
    "\n",
    "#тестовые данные\n",
    "X_test, y_test = X[num_training:], y[num_training:]"
   ]
  },
  {
   "cell_type": "code",
   "execution_count": 5,
   "id": "0ea5db6b",
   "metadata": {},
   "outputs": [
    {
     "data": {
      "text/html": [
       "<style>#sk-container-id-1 {color: black;background-color: white;}#sk-container-id-1 pre{padding: 0;}#sk-container-id-1 div.sk-toggleable {background-color: white;}#sk-container-id-1 label.sk-toggleable__label {cursor: pointer;display: block;width: 100%;margin-bottom: 0;padding: 0.3em;box-sizing: border-box;text-align: center;}#sk-container-id-1 label.sk-toggleable__label-arrow:before {content: \"▸\";float: left;margin-right: 0.25em;color: #696969;}#sk-container-id-1 label.sk-toggleable__label-arrow:hover:before {color: black;}#sk-container-id-1 div.sk-estimator:hover label.sk-toggleable__label-arrow:before {color: black;}#sk-container-id-1 div.sk-toggleable__content {max-height: 0;max-width: 0;overflow: hidden;text-align: left;background-color: #f0f8ff;}#sk-container-id-1 div.sk-toggleable__content pre {margin: 0.2em;color: black;border-radius: 0.25em;background-color: #f0f8ff;}#sk-container-id-1 input.sk-toggleable__control:checked~div.sk-toggleable__content {max-height: 200px;max-width: 100%;overflow: auto;}#sk-container-id-1 input.sk-toggleable__control:checked~label.sk-toggleable__label-arrow:before {content: \"▾\";}#sk-container-id-1 div.sk-estimator input.sk-toggleable__control:checked~label.sk-toggleable__label {background-color: #d4ebff;}#sk-container-id-1 div.sk-label input.sk-toggleable__control:checked~label.sk-toggleable__label {background-color: #d4ebff;}#sk-container-id-1 input.sk-hidden--visually {border: 0;clip: rect(1px 1px 1px 1px);clip: rect(1px, 1px, 1px, 1px);height: 1px;margin: -1px;overflow: hidden;padding: 0;position: absolute;width: 1px;}#sk-container-id-1 div.sk-estimator {font-family: monospace;background-color: #f0f8ff;border: 1px dotted black;border-radius: 0.25em;box-sizing: border-box;margin-bottom: 0.5em;}#sk-container-id-1 div.sk-estimator:hover {background-color: #d4ebff;}#sk-container-id-1 div.sk-parallel-item::after {content: \"\";width: 100%;border-bottom: 1px solid gray;flex-grow: 1;}#sk-container-id-1 div.sk-label:hover label.sk-toggleable__label {background-color: #d4ebff;}#sk-container-id-1 div.sk-serial::before {content: \"\";position: absolute;border-left: 1px solid gray;box-sizing: border-box;top: 0;bottom: 0;left: 50%;z-index: 0;}#sk-container-id-1 div.sk-serial {display: flex;flex-direction: column;align-items: center;background-color: white;padding-right: 0.2em;padding-left: 0.2em;position: relative;}#sk-container-id-1 div.sk-item {position: relative;z-index: 1;}#sk-container-id-1 div.sk-parallel {display: flex;align-items: stretch;justify-content: center;background-color: white;position: relative;}#sk-container-id-1 div.sk-item::before, #sk-container-id-1 div.sk-parallel-item::before {content: \"\";position: absolute;border-left: 1px solid gray;box-sizing: border-box;top: 0;bottom: 0;left: 50%;z-index: -1;}#sk-container-id-1 div.sk-parallel-item {display: flex;flex-direction: column;z-index: 1;position: relative;background-color: white;}#sk-container-id-1 div.sk-parallel-item:first-child::after {align-self: flex-end;width: 50%;}#sk-container-id-1 div.sk-parallel-item:last-child::after {align-self: flex-start;width: 50%;}#sk-container-id-1 div.sk-parallel-item:only-child::after {width: 0;}#sk-container-id-1 div.sk-dashed-wrapped {border: 1px dashed gray;margin: 0 0.4em 0.5em 0.4em;box-sizing: border-box;padding-bottom: 0.4em;background-color: white;}#sk-container-id-1 div.sk-label label {font-family: monospace;font-weight: bold;display: inline-block;line-height: 1.2em;}#sk-container-id-1 div.sk-label-container {text-align: center;}#sk-container-id-1 div.sk-container {/* jupyter's `normalize.less` sets `[hidden] { display: none; }` but bootstrap.min.css set `[hidden] { display: none !important; }` so we also need the `!important` here to be able to override the default hidden behavior on the sphinx rendered scikit-learn.org. See: https://github.com/scikit-learn/scikit-learn/issues/21755 */display: inline-block !important;position: relative;}#sk-container-id-1 div.sk-text-repr-fallback {display: none;}</style><div id=\"sk-container-id-1\" class=\"sk-top-container\"><div class=\"sk-text-repr-fallback\"><pre>LinearRegression()</pre><b>In a Jupyter environment, please rerun this cell to show the HTML representation or trust the notebook. <br />On GitHub, the HTML representation is unable to render, please try loading this page with nbviewer.org.</b></div><div class=\"sk-container\" hidden><div class=\"sk-item\"><div class=\"sk-estimator sk-toggleable\"><input class=\"sk-toggleable__control sk-hidden--visually\" id=\"sk-estimator-id-1\" type=\"checkbox\" checked><label for=\"sk-estimator-id-1\" class=\"sk-toggleable__label sk-toggleable__label-arrow\">LinearRegression</label><div class=\"sk-toggleable__content\"><pre>LinearRegression()</pre></div></div></div></div></div>"
      ],
      "text/plain": [
       "LinearRegression()"
      ]
     },
     "execution_count": 5,
     "metadata": {},
     "output_type": "execute_result"
    }
   ],
   "source": [
    "'''Создадим объект линейного регрессора и обучим его, используя \n",
    "тренировочные данные'''\n",
    "#создание объекта линейного регрессора\n",
    "regressor = linear_model.LinearRegression()\n",
    "\n",
    "#обучение модели с использованием обучающего набора\n",
    "regressor.fit(X_train, y_train)"
   ]
  },
  {
   "cell_type": "code",
   "execution_count": 6,
   "id": "2179c7a7",
   "metadata": {},
   "outputs": [],
   "source": [
    "'''Спрогрнозируем результат для тестового набора данных,\n",
    "используя обучаемую модель'''\n",
    "#прогнозирование результата\n",
    "y_test_pred = regressor.predict(X_test)"
   ]
  },
  {
   "cell_type": "code",
   "execution_count": 7,
   "id": "e393efb9",
   "metadata": {},
   "outputs": [
    {
     "data": {
      "image/png": "[encoded data removed]",
      "text/plain": [
       "<Figure size 432x288 with 1 Axes>"
      ]
     },
     "metadata": {},
     "output_type": "display_data"
    }
   ],
   "source": [
    "'''Построим выходной график'''\n",
    "#построение графика\n",
    "plt.scatter(X_test, \n",
    "            y_test, \n",
    "            color = 'green')\n",
    "\n",
    "plt.plot(X_test, \n",
    "         y_test_pred, \n",
    "         color = 'black', \n",
    "         linewidth = 1)\n",
    "\n",
    "plt.xticks(())\n",
    "plt.yticks(())\n",
    "\n",
    "plt.show()"
   ]
  },
  {
   "cell_type": "code",
   "execution_count": 8,
   "id": "c86025b1",
   "metadata": {},
   "outputs": [
    {
     "name": "stdout",
     "output_type": "stream",
     "text": [
      "Linear regressor perfomance:\n",
      "\tMean absolute error = 0.59\n",
      "\tMean squared error = 0.49\n",
      "\tMedian absolute error = 0.51\n",
      "\tExplain variance score = 0.86\n",
      "\tR2 score = 0.86\n"
     ]
    }
   ],
   "source": [
    "'''Вычислим метрические характеристики регрессора, сравнивая\n",
    "истинные значения с предсказанными'''\n",
    "#Вычисление метрических характеристик\n",
    "print('Linear regressor perfomance:')\n",
    "\n",
    "print('\\tMean absolute error =', \n",
    "      round(sm.mean_absolute_error(y_test, y_test_pred), 2))\n",
    "print('\\tMean squared error =', \n",
    "      round(sm.mean_squared_error(y_test, y_test_pred), 2))\n",
    "print('\\tMedian absolute error =', \n",
    "      round(sm.median_absolute_error(y_test, y_test_pred), 2))\n",
    "print('\\tExplain variance score =', \n",
    "      round(sm.explained_variance_score(y_test, y_test_pred), 2))\n",
    "print('\\tR2 score =', \n",
    "      round(sm.r2_score(y_test, y_test_pred), 2))"
   ]
  }
 ],
 "metadata": {
  "kernelspec": {
   "display_name": "Python 3 (ipykernel)",
   "language": "python",
   "name": "python3"
  },
  "language_info": {
   "codemirror_mode": {
    "name": "ipython",
    "version": 3
   },
   "file_extension": ".py",
   "mimetype": "text/x-python",
   "name": "python",
   "nbconvert_exporter": "python",
   "pygments_lexer": "ipython3",
   "version": "3.9.12"
  }
 },
 "nbformat": 4,
 "nbformat_minor": 5
}
