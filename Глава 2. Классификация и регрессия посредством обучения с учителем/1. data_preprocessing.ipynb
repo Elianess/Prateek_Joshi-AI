{
 "cells": [
  {
   "cell_type": "markdown",
   "id": "80d4397a",
   "metadata": {},
   "source": [
    "# Предварительная обработка данных"
   ]
  },
  {
   "cell_type": "code",
   "execution_count": 1,
   "id": "952f2bec",
   "metadata": {},
   "outputs": [],
   "source": [
    "import numpy as np\n",
    "from sklearn import preprocessing"
   ]
  },
  {
   "cell_type": "code",
   "execution_count": 2,
   "id": "6cbff3ac",
   "metadata": {},
   "outputs": [],
   "source": [
    "input_data = np.array([ [5.1, -2.9, 3.3],\n",
    "                        [-1.2, 7.8, -6.1],\n",
    "                        [3.9, 0.4, 2.1],\n",
    "                        [7.3, -9.9, -4.5] ])"
   ]
  },
  {
   "cell_type": "markdown",
   "id": "97994189",
   "metadata": {},
   "source": [
    "рассмотрим несколько различных способов предобработки данных"
   ]
  },
  {
   "cell_type": "markdown",
   "id": "51e0c72a",
   "metadata": {},
   "source": [
    "## Бинаризация"
   ]
  },
  {
   "cell_type": "markdown",
   "id": "9d708196",
   "metadata": {},
   "source": [
    "Применяется, когда хотим преобразовать числовые значение в булевые."
   ]
  },
  {
   "cell_type": "code",
   "execution_count": 3,
   "id": "3cd4707e",
   "metadata": {},
   "outputs": [
    {
     "name": "stdout",
     "output_type": "stream",
     "text": [
      "[[ 5.1 -2.9  3.3]\n",
      " [-1.2  7.8 -6.1]\n",
      " [ 3.9  0.4  2.1]\n",
      " [ 7.3 -9.9 -4.5]]\n"
     ]
    }
   ],
   "source": [
    "print(input_data)"
   ]
  },
  {
   "cell_type": "code",
   "execution_count": 4,
   "id": "2968f169",
   "metadata": {
    "scrolled": true
   },
   "outputs": [
    {
     "name": "stdout",
     "output_type": "stream",
     "text": [
      "Binarized data:\n",
      " [[1. 0. 1.]\n",
      " [0. 1. 0.]\n",
      " [1. 0. 0.]\n",
      " [1. 0. 0.]]\n"
     ]
    }
   ],
   "source": [
    "data_binarized = preprocessing.Binarizer(threshold=2.1).transform(input_data)\n",
    "#установленно значение 2.1 в качестве порогового\n",
    "#значения выше 2.1 принудительно становятся равными 1, остальные 0\n",
    "\n",
    "print('Binarized data:\\n', data_binarized)"
   ]
  },
  {
   "cell_type": "markdown",
   "id": "75e37708",
   "metadata": {},
   "source": [
    "## Исключение среднего"
   ]
  },
  {
   "cell_type": "markdown",
   "id": "33cff093",
   "metadata": {},
   "source": [
    "Методика предварительной обработки данных, обычно используется в машинном обучении. Как правило из векторов-признаков (feature vectors) целесообразно исключать средние значения, чтобы каждый признак (feature) центрировался на нуле. Это делается с той целью, чтобы исключить из рассмотрения смещение значений в вкеторах признаков."
   ]
  },
  {
   "cell_type": "code",
   "execution_count": 5,
   "id": "b4ed2ca7",
   "metadata": {},
   "outputs": [
    {
     "name": "stdout",
     "output_type": "stream",
     "text": [
      "[[ 5.1 -2.9  3.3]\n",
      " [-1.2  7.8 -6.1]\n",
      " [ 3.9  0.4  2.1]\n",
      " [ 7.3 -9.9 -4.5]]\n"
     ]
    }
   ],
   "source": [
    "print(input_data)"
   ]
  },
  {
   "cell_type": "code",
   "execution_count": 6,
   "id": "060fac39",
   "metadata": {},
   "outputs": [
    {
     "name": "stdout",
     "output_type": "stream",
     "text": [
      "Before:\n",
      "Mean =  [ 3.775 -1.15  -1.3  ]\n",
      "Std deviation = [3.12039661 6.36651396 4.0620192 ]\n",
      "\n",
      "After:\n",
      "Mean =  [1.11022302e-16 0.00000000e+00 2.77555756e-17]\n",
      "Std deviation =  [1. 1. 1.]\n"
     ]
    }
   ],
   "source": [
    "#вывод среднего значения и стандартного отклонения для входных данных \n",
    "#(по каждому столбцу)\n",
    "print('Before:')\n",
    "print('Mean = ', input_data.mean(axis = 0))\n",
    "print('Std deviation =', input_data.std(axis = 0))\n",
    "\n",
    "#исклюим среднее\n",
    "data_scaled = preprocessing.scale(input_data)\n",
    "print('\\nAfter:')\n",
    "print('Mean = ', data_scaled.mean(axis = 0))\n",
    "print('Std deviation = ', data_scaled.std(axis = 0))"
   ]
  },
  {
   "cell_type": "markdown",
   "id": "6cd7f892",
   "metadata": {},
   "source": [
    "Можно заметить, что среднее значение практически равно 0, а стандартное отклонение 1"
   ]
  },
  {
   "cell_type": "markdown",
   "id": "c43cc6aa",
   "metadata": {},
   "source": [
    "## Масштабирование"
   ]
  },
  {
   "cell_type": "markdown",
   "id": "19242fb4",
   "metadata": {},
   "source": [
    "В векторе признаков каждое значение может меняться в некотороых случайных пределах. Поэтому важно масштабировать признаки, чтобы они представляли собой ровное игровое поле для тренировки алгоритма машинного обучения. Мы не хотим, чтобы любой из признаков мог принимать искусственно большое или малое значение лишь в силу природы измерений."
   ]
  },
  {
   "cell_type": "code",
   "execution_count": 7,
   "id": "ba732000",
   "metadata": {},
   "outputs": [
    {
     "name": "stdout",
     "output_type": "stream",
     "text": [
      "[[ 5.1 -2.9  3.3]\n",
      " [-1.2  7.8 -6.1]\n",
      " [ 3.9  0.4  2.1]\n",
      " [ 7.3 -9.9 -4.5]]\n"
     ]
    }
   ],
   "source": [
    "print(input_data)"
   ]
  },
  {
   "cell_type": "code",
   "execution_count": 8,
   "id": "b527ecf3",
   "metadata": {},
   "outputs": [
    {
     "name": "stdout",
     "output_type": "stream",
     "text": [
      "Min max scaler data:\n",
      " [[0.74117647 0.39548023 1.        ]\n",
      " [0.         1.         0.        ]\n",
      " [0.6        0.5819209  0.87234043]\n",
      " [1.         0.         0.17021277]]\n"
     ]
    }
   ],
   "source": [
    "#Масштабирование MinMax\n",
    "data_scaler_minmax =  preprocessing.MinMaxScaler(feature_range = (0, 1))\n",
    "data_scaler_minmax = data_scaler_minmax.fit_transform(input_data)\n",
    "\n",
    "print('Min max scaler data:\\n', data_scaler_minmax)"
   ]
  },
  {
   "cell_type": "markdown",
   "id": "cc1a75f8",
   "metadata": {},
   "source": [
    "Каждая строка масштабированна так, чтобы максимальным значением было 1, а все остальные знаения определялись относительного него"
   ]
  },
  {
   "cell_type": "markdown",
   "id": "8b5ce492",
   "metadata": {},
   "source": [
    "## Нормализация"
   ]
  },
  {
   "cell_type": "markdown",
   "id": "24af7221",
   "metadata": {},
   "source": [
    "Процесс нормализации заключается в изменении значений в векторе признаков таким образом, чтобы для их измерения можно было использовать одну общую шкалу.<br>\n",
    "&emsp;&emsp; В наиболее распространенных формах нормализации значения изменияются так, чтобы их сумма была равна 1\n",
    "- L1-нормализация - исопльзуюет метод наименьших абсолютных отклонений (Least Absolute Deviation), обеспечивает равенство 1 суммы абсолютных значений в каждом ряду.\n",
    "- L2-нормализация - использует метод наименьших квадратов, обеспечивает равенство 1 суммы квадратов значений.\n",
    "\n",
    "&emsp;&emsp;Вообще техника L1-нормализации считается более надежной по сравнению с L2-нормализацией, поскольку она менее чувствительна к выбросам. Очень часто данные содеражат выбросы, и с этим ничего не сделать. Если бы мы решали задачу, в котрой выбросы играют важную роль, то, верятно, лучшим выбором была бы L2-нормализация.  "
   ]
  },
  {
   "cell_type": "code",
   "execution_count": 9,
   "id": "ecbbc10e",
   "metadata": {},
   "outputs": [
    {
     "name": "stdout",
     "output_type": "stream",
     "text": [
      "[[ 5.1 -2.9  3.3]\n",
      " [-1.2  7.8 -6.1]\n",
      " [ 3.9  0.4  2.1]\n",
      " [ 7.3 -9.9 -4.5]]\n"
     ]
    }
   ],
   "source": [
    "print(input_data)"
   ]
  },
  {
   "cell_type": "code",
   "execution_count": 10,
   "id": "6b4e2b1b",
   "metadata": {},
   "outputs": [
    {
     "name": "stdout",
     "output_type": "stream",
     "text": [
      "L1-normalized data\n",
      " [[ 0.45132743 -0.25663717  0.2920354 ]\n",
      " [-0.0794702   0.51655629 -0.40397351]\n",
      " [ 0.609375    0.0625      0.328125  ]\n",
      " [ 0.33640553 -0.4562212  -0.20737327]]\n",
      "\n",
      "L2-normalized data\n",
      " [[ 0.75765788 -0.43082507  0.49024922]\n",
      " [-0.12030718  0.78199664 -0.61156148]\n",
      " [ 0.87690281  0.08993875  0.47217844]\n",
      " [ 0.55734935 -0.75585734 -0.34357152]]\n"
     ]
    }
   ],
   "source": [
    "data_normalized_l1 = preprocessing.normalize(input_data, norm = 'l1')\n",
    "data_normalized_l2 = preprocessing.normalize(input_data, norm = 'l2')\n",
    "\n",
    "print('L1-normalized data\\n', data_normalized_l1)\n",
    "print('\\nL2-normalized data\\n', data_normalized_l2)"
   ]
  }
 ],
 "metadata": {
  "kernelspec": {
   "display_name": "Python 3 (ipykernel)",
   "language": "python",
   "name": "python3"
  },
  "language_info": {
   "codemirror_mode": {
    "name": "ipython",
    "version": 3
   },
   "file_extension": ".py",
   "mimetype": "text/x-python",
   "name": "python",
   "nbconvert_exporter": "python",
   "pygments_lexer": "ipython3",
   "version": "3.9.12"
  }
 },
 "nbformat": 4,
 "nbformat_minor": 5
}
