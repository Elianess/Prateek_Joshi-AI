{
 "cells": [
  {
   "cell_type": "markdown",
   "id": "95b7a4fb",
   "metadata": {},
   "source": [
    "# Логистический классификатор"
   ]
  },
  {
   "cell_type": "markdown",
   "id": "51dbd47e",
   "metadata": {},
   "source": [
    "Логистическая регрессия (logistic regression) - это метододика, применяемая для объяснения отношений между входными и выходными переменными. Где входные переменные считаются независимыми, а выходные - зависимыми. Зависимая переменная может иметь только фиксированный набор значений. Эти значения соответствуют классам задачи классификации.\n",
    "\n",
    "Целью является идентификация отношений между независимыми и зависимыми переменными посредством оценки вероятностей того, что какая-то зависимая переменная относится к какому-то классу.\n",
    "\n",
    "Логистическая функция - это сигмоида, используемая для создания функций с разными параметрами. (Она очень тесно связанная с анализом данных на основе обобщенной линейной модели, в соответсвии с которой делается попытка подогнать прямую линию к группе точек таким образом, чтобы минимизировать ошибку)\n",
    "\n",
    "Вместо линейной регрессии мы применяем логистическую регрессию. На самом деле логистическая регрессия нужна не для классификации данных, но она упрощает решение этой задачи. "
   ]
  },
  {
   "cell_type": "code",
   "execution_count": 1,
   "id": "55b97e48",
   "metadata": {},
   "outputs": [],
   "source": [
    "import numpy as np\n",
    "from sklearn import linear_model\n",
    "import matplotlib.pyplot as plt\n",
    "\n",
    "from utilities import visualize_classifier"
   ]
  },
  {
   "cell_type": "markdown",
   "id": "a5691ffb",
   "metadata": {},
   "source": [
    "Определим образец входных данных с помощью двумерных векторов и соответствующих меток"
   ]
  },
  {
   "cell_type": "code",
   "execution_count": 2,
   "id": "f1395693",
   "metadata": {},
   "outputs": [],
   "source": [
    "#Определение образца входных данных\n",
    "X = np.array([[3.1, 7.2],\n",
    "              [4, 6.7], \n",
    "              [2.9, 8], \n",
    "              [5.1, 4.5], \n",
    "              [6, 5], \n",
    "              [5.6, 5], \n",
    "              [3.3, 0.4],\n",
    "              [3.9, 0.9],\n",
    "              [2.8, 1], \n",
    "              [0.5, 3.4], \n",
    "              [1, 4], \n",
    "              [0.6, 4.9]])\n",
    "\n",
    "y = np.array([0, 0, 0, 1, 1, 1, 2, 2, 2, 3, 3, 3])"
   ]
  },
  {
   "cell_type": "markdown",
   "id": "7cc01a4e",
   "metadata": {},
   "source": [
    "Мы будем исопльзовать классификатор, используя эти помеченные данные. Создадим объект логистичекского классификатора"
   ]
  },
  {
   "cell_type": "code",
   "execution_count": 3,
   "id": "b3aaf59f",
   "metadata": {},
   "outputs": [],
   "source": [
    "#Создание логистическго классфикатора\n",
    "classifier = linear_model.LogisticRegression(solver = 'liblinear', C = 1)"
   ]
  },
  {
   "cell_type": "markdown",
   "id": "fc416f16",
   "metadata": {},
   "source": [
    "Обучим классификатор, используя определенные выше данные"
   ]
  },
  {
   "cell_type": "code",
   "execution_count": 4,
   "id": "48f4855e",
   "metadata": {},
   "outputs": [
    {
     "data": {
      "text/html": [
       "<style>#sk-container-id-1 {color: black;background-color: white;}#sk-container-id-1 pre{padding: 0;}#sk-container-id-1 div.sk-toggleable {background-color: white;}#sk-container-id-1 label.sk-toggleable__label {cursor: pointer;display: block;width: 100%;margin-bottom: 0;padding: 0.3em;box-sizing: border-box;text-align: center;}#sk-container-id-1 label.sk-toggleable__label-arrow:before {content: \"▸\";float: left;margin-right: 0.25em;color: #696969;}#sk-container-id-1 label.sk-toggleable__label-arrow:hover:before {color: black;}#sk-container-id-1 div.sk-estimator:hover label.sk-toggleable__label-arrow:before {color: black;}#sk-container-id-1 div.sk-toggleable__content {max-height: 0;max-width: 0;overflow: hidden;text-align: left;background-color: #f0f8ff;}#sk-container-id-1 div.sk-toggleable__content pre {margin: 0.2em;color: black;border-radius: 0.25em;background-color: #f0f8ff;}#sk-container-id-1 input.sk-toggleable__control:checked~div.sk-toggleable__content {max-height: 200px;max-width: 100%;overflow: auto;}#sk-container-id-1 input.sk-toggleable__control:checked~label.sk-toggleable__label-arrow:before {content: \"▾\";}#sk-container-id-1 div.sk-estimator input.sk-toggleable__control:checked~label.sk-toggleable__label {background-color: #d4ebff;}#sk-container-id-1 div.sk-label input.sk-toggleable__control:checked~label.sk-toggleable__label {background-color: #d4ebff;}#sk-container-id-1 input.sk-hidden--visually {border: 0;clip: rect(1px 1px 1px 1px);clip: rect(1px, 1px, 1px, 1px);height: 1px;margin: -1px;overflow: hidden;padding: 0;position: absolute;width: 1px;}#sk-container-id-1 div.sk-estimator {font-family: monospace;background-color: #f0f8ff;border: 1px dotted black;border-radius: 0.25em;box-sizing: border-box;margin-bottom: 0.5em;}#sk-container-id-1 div.sk-estimator:hover {background-color: #d4ebff;}#sk-container-id-1 div.sk-parallel-item::after {content: \"\";width: 100%;border-bottom: 1px solid gray;flex-grow: 1;}#sk-container-id-1 div.sk-label:hover label.sk-toggleable__label {background-color: #d4ebff;}#sk-container-id-1 div.sk-serial::before {content: \"\";position: absolute;border-left: 1px solid gray;box-sizing: border-box;top: 0;bottom: 0;left: 50%;z-index: 0;}#sk-container-id-1 div.sk-serial {display: flex;flex-direction: column;align-items: center;background-color: white;padding-right: 0.2em;padding-left: 0.2em;position: relative;}#sk-container-id-1 div.sk-item {position: relative;z-index: 1;}#sk-container-id-1 div.sk-parallel {display: flex;align-items: stretch;justify-content: center;background-color: white;position: relative;}#sk-container-id-1 div.sk-item::before, #sk-container-id-1 div.sk-parallel-item::before {content: \"\";position: absolute;border-left: 1px solid gray;box-sizing: border-box;top: 0;bottom: 0;left: 50%;z-index: -1;}#sk-container-id-1 div.sk-parallel-item {display: flex;flex-direction: column;z-index: 1;position: relative;background-color: white;}#sk-container-id-1 div.sk-parallel-item:first-child::after {align-self: flex-end;width: 50%;}#sk-container-id-1 div.sk-parallel-item:last-child::after {align-self: flex-start;width: 50%;}#sk-container-id-1 div.sk-parallel-item:only-child::after {width: 0;}#sk-container-id-1 div.sk-dashed-wrapped {border: 1px dashed gray;margin: 0 0.4em 0.5em 0.4em;box-sizing: border-box;padding-bottom: 0.4em;background-color: white;}#sk-container-id-1 div.sk-label label {font-family: monospace;font-weight: bold;display: inline-block;line-height: 1.2em;}#sk-container-id-1 div.sk-label-container {text-align: center;}#sk-container-id-1 div.sk-container {/* jupyter's `normalize.less` sets `[hidden] { display: none; }` but bootstrap.min.css set `[hidden] { display: none !important; }` so we also need the `!important` here to be able to override the default hidden behavior on the sphinx rendered scikit-learn.org. See: https://github.com/scikit-learn/scikit-learn/issues/21755 */display: inline-block !important;position: relative;}#sk-container-id-1 div.sk-text-repr-fallback {display: none;}</style><div id=\"sk-container-id-1\" class=\"sk-top-container\"><div class=\"sk-text-repr-fallback\"><pre>LogisticRegression(C=1, solver=&#x27;liblinear&#x27;)</pre><b>In a Jupyter environment, please rerun this cell to show the HTML representation or trust the notebook. <br />On GitHub, the HTML representation is unable to render, please try loading this page with nbviewer.org.</b></div><div class=\"sk-container\" hidden><div class=\"sk-item\"><div class=\"sk-estimator sk-toggleable\"><input class=\"sk-toggleable__control sk-hidden--visually\" id=\"sk-estimator-id-1\" type=\"checkbox\" checked><label for=\"sk-estimator-id-1\" class=\"sk-toggleable__label sk-toggleable__label-arrow\">LogisticRegression</label><div class=\"sk-toggleable__content\"><pre>LogisticRegression(C=1, solver=&#x27;liblinear&#x27;)</pre></div></div></div></div></div>"
      ],
      "text/plain": [
       "LogisticRegression(C=1, solver='liblinear')"
      ]
     },
     "execution_count": 4,
     "metadata": {},
     "output_type": "execute_result"
    }
   ],
   "source": [
    "#Тренировка классификатора\n",
    "classifier.fit(X, y)"
   ]
  },
  {
   "cell_type": "markdown",
   "id": "c739e7e7",
   "metadata": {},
   "source": [
    "Визуализируем результат работы классификатора, отследив границы классов"
   ]
  },
  {
   "cell_type": "code",
   "execution_count": 5,
   "id": "529fdad3",
   "metadata": {},
   "outputs": [
    {
     "data": {
      "image/png": "[encoded data removed]",
      "text/plain": [
       "<Figure size 432x288 with 1 Axes>"
      ]
     },
     "metadata": {
      "needs_background": "light"
     },
     "output_type": "display_data"
    }
   ],
   "source": [
    "#Визуализация работы классификатора\n",
    "visualize_classifier(classifier, X, y)"
   ]
  },
  {
   "cell_type": "markdown",
   "id": "9913c3ae",
   "metadata": {},
   "source": [
    "------"
   ]
  },
  {
   "cell_type": "markdown",
   "id": "214cd76c",
   "metadata": {},
   "source": [
    "Если в моменте создания классификатора C поставить равное, например, 100, то границы станут более точными"
   ]
  },
  {
   "cell_type": "code",
   "execution_count": 6,
   "id": "404cae40",
   "metadata": {},
   "outputs": [
    {
     "data": {
      "image/png": "[encoded data removed]",
      "text/plain": [
       "<Figure size 432x288 with 1 Axes>"
      ]
     },
     "metadata": {
      "needs_background": "light"
     },
     "output_type": "display_data"
    }
   ],
   "source": [
    "classifier = linear_model.LogisticRegression(solver = 'liblinear', C = 100)\n",
    "classifier.fit(X, y)\n",
    "visualize_classifier(classifier, X, y)"
   ]
  },
  {
   "cell_type": "markdown",
   "id": "746ed8e9",
   "metadata": {},
   "source": [
    "Это объясняется тем, что параметр C создает определенный штраф на неточность классификации, поэтому алгоритм стремится лучше приспособиться к тренировоным данным.\n",
    "\n",
    "Это значение необходимо подбирать очень точно, так как если значение будет слишком большит, то это приведет к переобучению модели на тренировочных данных, и она не будет хорошо обобщаться"
   ]
  }
 ],
 "metadata": {
  "kernelspec": {
   "display_name": "Python 3 (ipykernel)",
   "language": "python",
   "name": "python3"
  },
  "language_info": {
   "codemirror_mode": {
    "name": "ipython",
    "version": 3
   },
   "file_extension": ".py",
   "mimetype": "text/x-python",
   "name": "python",
   "nbconvert_exporter": "python",
   "pygments_lexer": "ipython3",
   "version": "3.9.12"
  }
 },
 "nbformat": 4,
 "nbformat_minor": 5
}
